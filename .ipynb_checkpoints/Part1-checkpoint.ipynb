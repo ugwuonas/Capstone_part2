{
 "cells": [
  {
   "cell_type": "code",
   "execution_count": 8,
   "id": "7efc58d8",
   "metadata": {},
   "outputs": [],
   "source": [
    "import requests\n",
    "import psycopg2\n",
    "import os\n",
    "import csv\n",
    "import pandas as pd\n",
    "from datetime import datetime\n"
   ]
  },
  {
   "cell_type": "markdown",
   "id": "32a584be",
   "metadata": {},
   "source": [
    "## Download the Covid_19_data.csv file  "
   ]
  },
  {
   "cell_type": "code",
   "execution_count": 4,
   "id": "46eb624f",
   "metadata": {},
   "outputs": [],
   "source": [
    "def download_file(url, filename):\n",
    "    response = requests.get(url)\n",
    "    if response.status_code == 200:\n",
    "        with open(filename, 'wb') as file:\n",
    "            file.write(response.content)\n",
    "        print(f\"File '{filename}' downloaded successfully.\")\n",
    "    else:\n",
    "        print(f\"Failed to download file from '{url}'. Status code: {response.status_code}\")"
   ]
  },
  {
   "cell_type": "code",
   "execution_count": 5,
   "id": "6184191d",
   "metadata": {},
   "outputs": [
    {
     "name": "stdout",
     "output_type": "stream",
     "text": [
      "File 'covid_19_data.csv' downloaded successfully.\n"
     ]
    }
   ],
   "source": [
    "# URL of the file to download\n",
    "url = 'https://drive.google.com/uc?id=1SzmRIwlpL5PrFuaUe_1TAcMV0HYHMD_b'\n",
    "\n",
    "# Name of the file to save locally\n",
    "filename = 'covid_19_data.csv'\n",
    "\n",
    "# Call the function to download the file\n",
    "download_file(url, filename)"
   ]
  },
  {
   "cell_type": "markdown",
   "id": "d02770f6",
   "metadata": {},
   "source": [
    "## Connect to the PostgreSQL database"
   ]
  },
  {
   "cell_type": "code",
   "execution_count": 14,
   "id": "7a30ad20",
   "metadata": {},
   "outputs": [],
   "source": [
    "def get_db_connection(host, database, user, password):\n",
    "    conn = psycopg2.connect(host = host, database = database, user = user, password = password)\n",
    "    return conn"
   ]
  },
  {
   "cell_type": "code",
   "execution_count": 15,
   "id": "1f68a5d7",
   "metadata": {},
   "outputs": [],
   "source": [
    "conn = get_db_connection('localhost', 'Capstone', os.environ['user'], os.environ['password'])\n",
    "cur = conn.cursor()"
   ]
  },
  {
   "cell_type": "markdown",
   "id": "3483c75d",
   "metadata": {},
   "source": [
    "## Read the CSV file into a DataFrame"
   ]
  },
  {
   "cell_type": "code",
   "execution_count": 11,
   "id": "118fca8b",
   "metadata": {},
   "outputs": [],
   "source": [
    "covid19_df = pd.read_csv(filename)"
   ]
  },
  {
   "cell_type": "markdown",
   "id": "f170060c",
   "metadata": {},
   "source": [
    "## Load data into PostgreSQL database  "
   ]
  },
  {
   "cell_type": "code",
   "execution_count": 16,
   "id": "bcb30f85",
   "metadata": {},
   "outputs": [],
   "source": [
    "for index, row in covid19_df.iterrows():\n",
    "    serial_number = row['SNo']\n",
    "    observation_date = datetime.strptime(row['ObservationDate'], '%m/%d/%Y').date()     #convert ObservationDate to a DateTime datatype\n",
    "    province = row['Province']\n",
    "    country = row['Country']\n",
    "    last_update = row['LastUpdate']\n",
    "    confirmed = row['Confirmed']\n",
    "    deaths = row['Deaths']\n",
    "    recovered = row['Recovered']\n",
    "    \n",
    "    cur.execute('INSERT INTO covid_19_data(serialnumber, observationdate, province, country, lastupdate, confirmed, deaths, recovered) VALUES (%s, %s, %s, %s, %s, %s, %s, %s)',\n",
    "            (serial_number, observation_date, province, country, last_update, confirmed, deaths, recovered))\n",
    "    conn.commit()"
   ]
  },
  {
   "cell_type": "markdown",
   "id": "687e9ecb",
   "metadata": {},
   "source": [
    "## Close the cursor and connection"
   ]
  },
  {
   "cell_type": "code",
   "execution_count": 17,
   "id": "c37696de",
   "metadata": {},
   "outputs": [],
   "source": [
    "cur.close()\n",
    "\n",
    "conn.close()"
   ]
  },
  {
   "cell_type": "code",
   "execution_count": null,
   "id": "bfe992d6",
   "metadata": {},
   "outputs": [],
   "source": []
  }
 ],
 "metadata": {
  "kernelspec": {
   "display_name": "Python 3 (ipykernel)",
   "language": "python",
   "name": "python3"
  },
  "language_info": {
   "codemirror_mode": {
    "name": "ipython",
    "version": 3
   },
   "file_extension": ".py",
   "mimetype": "text/x-python",
   "name": "python",
   "nbconvert_exporter": "python",
   "pygments_lexer": "ipython3",
   "version": "3.9.13"
  }
 },
 "nbformat": 4,
 "nbformat_minor": 5
}
