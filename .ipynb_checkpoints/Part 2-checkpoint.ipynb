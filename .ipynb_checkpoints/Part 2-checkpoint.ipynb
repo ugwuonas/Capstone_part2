{
 "cells": [
  {
   "cell_type": "code",
   "execution_count": null,
   "id": "f58b5b6f",
   "metadata": {},
   "outputs": [],
   "source": [
    "import csv\n",
    "import os\n",
    "import boto3\n",
    "from datetime import date\n",
    "import psycopg2\n",
    "import requests\n",
    "import json\n",
    "import pandas as pd\n",
    "import redshift_connector"
   ]
  },
  {
   "cell_type": "code",
   "execution_count": null,
   "id": "74bb3b65",
   "metadata": {},
   "outputs": [],
   "source": [
    "#Extract data from API\n",
    "url = \"https://jsearch.p.rapidapi.com/search\"\n",
    "\n",
    "querystring = {\"query\":\"Data Engineer, Canada\",\"page\":\"1\",\"num_pages\":\"1\",\"date_posted\":\"today\"}\n",
    "\n",
    "headers = {\n",
    "\t\"X-RapidAPI-Key\": \"5c92a8003bmsh88e3a9baf2d1ca6p142d91jsn7f1ccb37e696\",\n",
    "\t\"X-RapidAPI-Host\": \"jsearch.p.rapidapi.com\"\n",
    "}\n",
    "\n",
    "response = requests.get(url, headers=headers, params=querystring)\n",
    "\n",
    "raw_data = response.json()"
   ]
  },
  {
   "cell_type": "code",
   "execution_count": null,
   "id": "09849bd8",
   "metadata": {},
   "outputs": [],
   "source": [
    "#Connect to S3\n",
    "s3 = boto3.client(\n",
    "service_name = 's3',\n",
    "region_name = 'ca-central-1',\n",
    "aws_access_key_id = os.environ['aws_access_key_id'],\n",
    "aws_secret_access_key = os.environ['aws_secret_access_key']\n",
    ")"
   ]
  },
  {
   "cell_type": "code",
   "execution_count": null,
   "id": "63b0c3a9",
   "metadata": {},
   "outputs": [],
   "source": [
    "#Stage raw data in S3 bucket(rawjobsdata)\n",
    "s3.put_object(\n",
    "    Bucket='rawjobsdata',\n",
    "    Key=f\"raw_jobs_data_{date.today()}.json\",\n",
    "    Body=json.dumps(raw_data))"
   ]
  },
  {
   "cell_type": "code",
   "execution_count": null,
   "id": "bb79d778",
   "metadata": {},
   "outputs": [],
   "source": [
    "#transform data and store in CSV format\n",
    "transformed_data_list = []\n",
    "for i in raw_data[\"data\"]:\n",
    "    transformed_data_list.append({\n",
    "        \"employer_website\": i[\"employer_website\"],\n",
    "        \"job_id\": i[\"job_id\"],\n",
    "        \"job_employment_type\": i[\"job_employment_type\"],\n",
    "        \"job_title\": i[\"job_title\"],\n",
    "        \"job_apply_link\": i[\"job_apply_link\"],\n",
    "        \"job_description\": i[\"job_description\"],\n",
    "        \"job_city\": i[\"job_city\"],\n",
    "        \"job_country\": i[\"job_country\"],\n",
    "        \"job_posted_at_timestamp\": i[\"job_posted_at_timestamp\"],\n",
    "        \"employer_company_type\": i[\"employer_company_type\"]\n",
    "    })\n",
    "\n",
    "transformed_data_df = pd.DataFrame(transformed_data_list)\n",
    "\n",
    "# Save the DataFrame as a CSV file in memory\n",
    "csv_data = transformed_data_df.to_csv(index=False)"
   ]
  },
  {
   "cell_type": "code",
   "execution_count": null,
   "id": "888e65ea",
   "metadata": {},
   "outputs": [],
   "source": [
    "#Stage transformed data in S3 bucket(transformedjobsdata)\n",
    "s3.put_object(\n",
    "    Bucket='transformedjobsdata',\n",
    "    Key=f\"transformed_jobs_data_{date.today()}.csv\",\n",
    "    Body=csv_data)"
   ]
  },
  {
   "cell_type": "code",
   "execution_count": null,
   "id": "d2bc8c35",
   "metadata": {},
   "outputs": [],
   "source": [
    "os.environ['redshift_user'] = 'awsuser'\n",
    "os.environ['redshift_password'] = 'sopInwa99'\n"
   ]
  },
  {
   "cell_type": "code",
   "execution_count": null,
   "id": "89ee99df",
   "metadata": {},
   "outputs": [],
   "source": [
    "conn_params = {\n",
    "    'user': os.environ['redshift_user'],\n",
    "    'password': os.environ['redshift_password'],\n",
    "    'host': 'redshift-cluster-2.cfz4dilotntk.ca-central-1.redshift.amazonaws.com',\n",
    "    'port': 5439,\n",
    "    'database': 'dev'\n",
    "}\n"
   ]
  },
  {
   "cell_type": "code",
   "execution_count": null,
   "id": "ea46baef",
   "metadata": {},
   "outputs": [],
   "source": [
    "conn = redshift_connector.connect(**conn_params)\n"
   ]
  },
  {
   "cell_type": "code",
   "execution_count": null,
   "id": "a8027c76",
   "metadata": {},
   "outputs": [],
   "source": [
    "conn = redshift_connector.connect(\n",
    "    user= os.environ['redshift_user'],\n",
    "    host= 'redshift-cluster-2.cfz4dilotntk.ca-central-1.redshift.amazonaws.com',\n",
    "    port= 5439,\n",
    "    password= os.environ['redshift_password']\n",
    " )\n",
    "\n",
    "conn = redshift_connector.connect(**conn_params)\n",
    "\n"
   ]
  },
  {
   "cell_type": "code",
   "execution_count": null,
   "id": "9e20d70c",
   "metadata": {},
   "outputs": [],
   "source": []
  }
 ],
 "metadata": {
  "kernelspec": {
   "display_name": "Python (32-bit)",
   "language": "python",
   "name": "python32bit"
  },
  "language_info": {
   "codemirror_mode": {
    "name": "ipython",
    "version": 3
   },
   "file_extension": ".py",
   "mimetype": "text/x-python",
   "name": "python",
   "nbconvert_exporter": "python",
   "pygments_lexer": "ipython3",
   "version": "3.11.4"
  }
 },
 "nbformat": 4,
 "nbformat_minor": 5
}
